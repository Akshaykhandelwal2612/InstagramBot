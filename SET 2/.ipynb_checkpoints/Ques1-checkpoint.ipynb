{
 "cells": [
  {
   "cell_type": "code",
   "execution_count": 4,
   "metadata": {},
   "outputs": [],
   "source": [
    "#import all the libraries \n",
    "import time\n",
    "from datetime import date, timedelta,datetime\n",
    "import matplotlib.pyplot as plt \n",
    "#importing library and then initiating a chrome session and making request to login page of instagram\n",
    "from selenium import webdriver\n",
    "driver = webdriver.Chrome(executable_path = '/Users/Akshay/Downloads/chromedriver')\n",
    "driver.get('https://www.instagram.com/')"
   ]
  },
  {
   "cell_type": "code",
   "execution_count": 5,
   "metadata": {},
   "outputs": [],
   "source": [
    "#searching for the username option and the fill the desired username to the send_keys function replacing USERNAME as a parameter \n",
    "username= driver.find_element_by_name(\"username\")\n",
    "username.send_keys(\"USERNAME\")\n",
    "#searching for the username option and the fill the desired password to the send_keys function replacing PASSWORD as a parameter\n",
    "password= driver.find_element_by_name(\"password\")\n",
    "password.send_keys(\"PASSWORD\")\n",
    "#search for the submit button using xpath and class name and press on submit button \n",
    "sub= driver.find_element_by_xpath('//button[contains(@class, \"sqdOP\")]')\n",
    "sub.submit()\n",
    "#give time to login \n",
    "time.sleep(4)\n",
    "#press not now button\n",
    "notnow= driver.find_element_by_xpath('//div/button[contains(@class, \"aOOlW   HoLwm\")]')\n",
    "notnow.click()\n"
   ]
  },
  {
   "cell_type": "code",
   "execution_count": 10,
   "metadata": {},
   "outputs": [
    {
     "name": "stdout",
     "output_type": "stream",
     "text": [
      "yourfoodlab 1576759\n",
      "dilsefoodie 719507\n",
      "foodie_incarnate 250530\n",
      "delhifoodwalks 135475\n",
      "food 109611\n"
     ]
    }
   ],
   "source": [
    "#now to get the list of top 10 user accounts on searching food \n",
    "\n",
    "#now go to the search bar and type the text food to it \n",
    "s= driver.find_element_by_xpath('//input[contains(@class, \"XTCLo\")]')\n",
    "s.send_keys(\"food\")\n",
    "time.sleep(2)\n",
    "#this opens a dialogue box with list of elements extract top 10 accounts from it \n",
    "a= driver.find_elements_by_xpath('//a[contains(@class, \"-qQT3\")]')\n",
    "links=list()\n",
    "#now we check the link and see if they are tags or accounts we skip the tags and store only accounts in the links list and as soon as it reaches the llength of 10 we break the loop \n",
    "for i in a:\n",
    "    t=i.get_attribute(\"href\")\n",
    "    if \"tags\" in t:\n",
    "        pass\n",
    "    else:\n",
    "        links.append(t)\n",
    "    if len(links)==10:\n",
    "        break\n",
    "time.sleep(1)\n",
    "#now we declare two dictionary and one to store username and no of followers and other to store username and its link \n",
    "d=dict()\n",
    "usn_link=dict()\n",
    "#we iterate the list of links and get to the page one by one to extract the number of followers they have \n",
    "for i in links:\n",
    "    driver.get(i)\n",
    "    time.sleep(5)\n",
    "    b= driver.find_element_by_xpath('//a/span[contains(@class, \"g47SY\")]')\n",
    "    #to get number of followers and then conver the string to integer by removing the commas and then store username followers and links in two dict  \n",
    "    val=b.get_attribute('title')\n",
    "    val=int(val.replace(\",\",\"\"))\n",
    "    c=driver.find_element_by_xpath('//h2[contains(@class, \"_7UhW9       fKFbl yUEEX   KV-D4              fDxYl     \")]')\n",
    "    k=c.get_attribute('innerHTML')\n",
    "    d[k]=d.get(k,0)+val\n",
    "    usn_link[k]=i\n",
    "time.sleep(1)\n",
    "#now we sort that and get top 5 out of them \n",
    "s = sorted(d.items(), key=lambda item: item[1], reverse=True)\n",
    "s=s[:5]\n",
    "top5=dict()\n",
    "for i in s:\n",
    "    top5[i[0]]=i[1]\n",
    "for i in top5:\n",
    "    print(i,top5[i])"
   ]
  },
  {
   "cell_type": "code",
   "execution_count": 11,
   "metadata": {},
   "outputs": [
    {
     "name": "stdout",
     "output_type": "stream",
     "text": [
      "yourfoodlab 2\n",
      "dilsefoodie 1\n",
      "foodie_incarnate 5\n",
      "delhifoodwalks 3\n",
      "food 3\n"
     ]
    }
   ],
   "source": [
    "\n",
    "#now we will iterate over the top 5 pages and then scroll a bit and then find the number of post they have done \n",
    "post_count=dict()\n",
    "\n",
    "for i in top5:\n",
    "    #we extract the link from the username and then make a get request to that page \n",
    "    page_to_go=usn_link[i]\n",
    "    driver.get(page_to_go)\n",
    "    time.sleep(5)\n",
    "    #now we scroll over that page for a bit and then scroll a bit more to scroll more postss \n",
    "    for j in range(16):\n",
    "        driver.execute_script('window.scrollBy(0, 2500);')\n",
    "        time.sleep(3)\n",
    "    #now we find out the link of all the post and then store their links\n",
    "    pics= driver.find_elements_by_xpath('//div[contains(@class, \"v1Nh3 kIKUG  _bz0w\")]/a')\n",
    "    li=list()\n",
    "    \n",
    "    for j in range(len(pics)):\n",
    "        li.append(pics[j].get_attribute(\"href\"))\n",
    "    dates=list()\n",
    "    #now we iterate over the post make a get request to them one by one and then make get requests to them \n",
    "    for k in li:\n",
    "        driver.get(k)\n",
    "        time.sleep(1)\n",
    "        #now we try to extract the date element and then store them in a list  \n",
    "        da= driver.find_element_by_xpath('//time[contains(@class, \"_1o9PC Nzb55\")]')\n",
    "        da=da.get_attribute(\"datetime\")\n",
    "        dates.append(da)\n",
    "        \n",
    "    count=0\n",
    "    #after this we can check out the dates and convert strings to date time object and then compare if they are of 3 days before or not and count number of such posts and then store the number in dictionary  \n",
    "    for f in dates:\n",
    "        datetime_str = f[:10]\n",
    "        dobj = datetime.strptime(datetime_str, '%Y-%m-%d').date()\n",
    "        current_date = date.today().isoformat()   \n",
    "        deadline = (date.today()-timedelta(days=3))\n",
    "        if dobj>=deadline:\n",
    "            count+=1\n",
    "    del dates\n",
    "    post_count[i]=count\n",
    "#now we print them by iterating over it \n",
    "for i in post_count:\n",
    "    print(i,post_count[i])\n",
    "    "
   ]
  },
  {
   "cell_type": "code",
   "execution_count": 13,
   "metadata": {},
   "outputs": [
    {
     "name": "stdout",
     "output_type": "stream",
     "text": [
      "\n"
     ]
    },
    {
     "data": {
      "image/png": "[encoded data removed]",
      "text/plain": [
       "<Figure size 432x288 with 1 Axes>"
      ]
     },
     "metadata": {
      "needs_background": "light"
     },
     "output_type": "display_data"
    }
   ],
   "source": [
    "#now we store the values and attributes in the list by iterating over it and then plot the bar graph\n",
    "x=list()\n",
    "y=list()\n",
    "for i in post_count:\n",
    "    x.append(i)\n",
    "    y.append(post_count[i])\n",
    "plt.bar(x,y)\n",
    "plt.xticks(rotation=60)\n",
    "print()"
   ]
  },
  {
   "cell_type": "code",
   "execution_count": null,
   "metadata": {},
   "outputs": [],
   "source": []
  },
  {
   "cell_type": "code",
   "execution_count": null,
   "metadata": {},
   "outputs": [],
   "source": []
  },
  {
   "cell_type": "code",
   "execution_count": null,
   "metadata": {},
   "outputs": [],
   "source": []
  },
  {
   "cell_type": "code",
   "execution_count": null,
   "metadata": {},
   "outputs": [],
   "source": []
  },
  {
   "cell_type": "code",
   "execution_count": null,
   "metadata": {},
   "outputs": [],
   "source": []
  }
 ],
 "metadata": {
  "kernelspec": {
   "display_name": "Python 3",
   "language": "python",
   "name": "python3"
  },
  "language_info": {
   "codemirror_mode": {
    "name": "ipython",
    "version": 3
   },
   "file_extension": ".py",
   "mimetype": "text/x-python",
   "name": "python",
   "nbconvert_exporter": "python",
   "pygments_lexer": "ipython3",
   "version": "3.8.5"
  }
 },
 "nbformat": 4,
 "nbformat_minor": 4
}
