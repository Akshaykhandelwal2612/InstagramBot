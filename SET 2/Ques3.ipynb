{
 "cells": [
  {
   "cell_type": "code",
   "execution_count": 1,
   "metadata": {},
   "outputs": [],
   "source": [
    "#import all the libraries \n",
    "import time\n",
    "from datetime import date, timedelta,datetime\n",
    "import matplotlib.pyplot as plt \n",
    "from bs4 import BeautifulSoup\n",
    "import csv\n",
    "#importing library and then initiating a chrome session and making request to login page of instagram\n",
    "from selenium import webdriver\n",
    "driver = webdriver.Chrome(executable_path = '/Users/Akshay/Downloads/chromedriver')\n",
    "driver.get('https://www.instagram.com/')"
   ]
  },
  {
   "cell_type": "code",
   "execution_count": 2,
   "metadata": {},
   "outputs": [],
   "source": [
    "#searching for the username option and the fill the desired username to the send_keys function replacing USERNAME as a parameter \n",
    "username= driver.find_element_by_name(\"username\")\n",
    "username.send_keys(\"USERNAME\")\n",
    "#searching for the username option and the fill the desired password to the send_keys function replacing PASSWORD as a parameter\n",
    "password= driver.find_element_by_name(\"password\")\n",
    "password.send_keys(\"PASSWORD\")\n",
    "#search for the submit button using xpath and class name and press on submit button \n",
    "sub= driver.find_element_by_xpath('//button[contains(@class, \"sqdOP\")]')\n",
    "sub.submit()\n",
    "#give time to login \n",
    "time.sleep(4)\n",
    "#press not now button\n",
    "notnow= driver.find_element_by_xpath('//div/button[contains(@class, \"aOOlW   HoLwm\")]')\n",
    "notnow.click()\n"
   ]
  },
  {
   "cell_type": "code",
   "execution_count": 6,
   "metadata": {},
   "outputs": [
    {
     "name": "stdout",
     "output_type": "stream",
     "text": [
      "foodnetwork 11064191\n",
      "yourfoodlab 1576740\n",
      "dilsefoodie 719534\n",
      "foodie_incarnate 250534\n",
      "delhifoodwalks 135478\n"
     ]
    }
   ],
   "source": [
    "#now to get the list of top 10 user accounts on searching food \n",
    "\n",
    "\n",
    "#now go to the search bar and type the text food to it \n",
    "s= driver.find_element_by_xpath('//input[contains(@class, \"XTCLo\")]')\n",
    "s.send_keys(\"food\")\n",
    "time.sleep(2)\n",
    "#this opens a dialogue box with list of elements extract top 10 accounts from it \n",
    "a= driver.find_elements_by_xpath('//a[contains(@class, \"-qQT3\")]')\n",
    "links=list()\n",
    "#now we check the link and see if they are tags or accounts we skip the tags and store only accounts in the links list and as soon as it reaches the llength of 10 we break the loop \n",
    "for i in a:\n",
    "    t=i.get_attribute(\"href\")\n",
    "    if \"tags\" in t:\n",
    "        pass\n",
    "    else:\n",
    "        links.append(t)\n",
    "    if len(links)==10:\n",
    "        break\n",
    "time.sleep(1)\n",
    "#now we declare two dictionary and one to store username and no of followers and other to store username and its link \n",
    "d=dict()\n",
    "usn_link=dict()\n",
    "#we iterate the list of links and get to the page one by one to extract the number of followers they have \n",
    "for i in links:\n",
    "    driver.get(i)\n",
    "    time.sleep(5)\n",
    "    b= driver.find_element_by_xpath('//a/span[contains(@class, \"g47SY\")]')\n",
    "    #to get number of followers and then conver the string to integer by removing the commas and then store username followers and links in two dict  \n",
    "    val=b.get_attribute('title')\n",
    "    val=int(val.replace(\",\",\"\"))\n",
    "    c=driver.find_element_by_xpath('//h2[contains(@class, \"_7UhW9       fKFbl yUEEX   KV-D4              fDxYl     \")]')\n",
    "    k=c.get_attribute('innerHTML')\n",
    "    d[k]=d.get(k,0)+val\n",
    "    usn_link[k]=i\n",
    "time.sleep(1)\n",
    "#now we sort that and get top 5 out of them \n",
    "s = sorted(d.items(), key=lambda item: item[1], reverse=True)\n",
    "s=s[:5]\n",
    "top5=dict()\n",
    "for i in s:\n",
    "    top5[i[0]]=i[1]\n",
    "for i in top5:\n",
    "    print(i,top5[i])"
   ]
  },
  {
   "cell_type": "code",
   "execution_count": 7,
   "metadata": {},
   "outputs": [],
   "source": [
    "#we iterate over each account and find the latest 10 posts and then look over them \n",
    "from selenium.common.exceptions import NoSuchElementException\n",
    "likes=dict()\n",
    "for i in top5:\n",
    "    page_to_go=usn_link[i]\n",
    "    driver.get(page_to_go)\n",
    "    time.sleep(5)\n",
    "    pics= driver.find_elements_by_xpath('//div[contains(@class, \"v1Nh3 kIKUG  _bz0w\")]/a')\n",
    "    li=list()\n",
    "    for j in range(len(pics)):\n",
    "        li.append(pics[j].get_attribute(\"href\"))\n",
    "    li=li[:10]\n",
    "    #the list li contains the link to the 10 latest post of the current account and now we iterate over each post and store number of likes \n",
    "    for k in li:\n",
    "        driver.get(k)\n",
    "        time.sleep(2)\n",
    "        #now we use the exception handing and separate out photos and videos\n",
    "        try:\n",
    "            #in this case we analyse photos and here we directly get the number of likes \n",
    "            val=driver.find_element_by_xpath('//div/a[contains(@class, \"zV_Nj\")]/span')\n",
    "            like=val.get_attribute(\"innerHTML\")\n",
    "            #now we convert the string to int by removing the commas\n",
    "            num=int(like.replace(\",\",''))\n",
    "            likes[i]=likes.get(i,0)+num\n",
    "        except NoSuchElementException :\n",
    "            #in this case we get a video and instead of number of likes we have number of views thus we need to click on that button to get number of likes\n",
    "            val=driver.find_element_by_xpath('//div[contains(@class, \"HbPOm _9Ytll\")]/span')\n",
    "            val.click()\n",
    "            time.sleep(1)\n",
    "            #then we extract the number of likes from it \n",
    "            like=driver.find_element_by_xpath('//div[contains(@class, \"vJRqr\")]/span')\n",
    "            a=like.get_attribute(\"innerHTML\")\n",
    "            #now we convert the string to int by removing the commas\n",
    "            num=int(a.replace(\",\",''))\n",
    "            likes[i]=likes.get(i,0)+num\n",
    "            "
   ]
  },
  {
   "cell_type": "code",
   "execution_count": 8,
   "metadata": {},
   "outputs": [
    {
     "name": "stdout",
     "output_type": "stream",
     "text": [
      "foodnetwork 99313\n",
      "yourfoodlab 342564\n",
      "dilsefoodie 210389\n",
      "foodie_incarnate 47459\n",
      "delhifoodwalks 6599\n"
     ]
    }
   ],
   "source": [
    "#to print the number of likes in total\n",
    "for i in likes:\n",
    "    print(i,likes[i])"
   ]
  },
  {
   "cell_type": "code",
   "execution_count": 9,
   "metadata": {},
   "outputs": [
    {
     "name": "stdout",
     "output_type": "stream",
     "text": [
      "foodnetwork 9931\n",
      "yourfoodlab 34256\n",
      "dilsefoodie 21038\n",
      "foodie_incarnate 4745\n",
      "delhifoodwalks 659\n"
     ]
    }
   ],
   "source": [
    "#to print the average likes on top10 post of each page \n",
    "for i in likes :\n",
    "    likes[i]=likes[i]//10\n",
    "for i in likes:\n",
    "    print(i,likes[i])"
   ]
  },
  {
   "cell_type": "code",
   "execution_count": 11,
   "metadata": {},
   "outputs": [
    {
     "name": "stdout",
     "output_type": "stream",
     "text": [
      "foodnetwork 0.0008975803111135735\n",
      "yourfoodlab 0.021725839390134075\n",
      "dilsefoodie 0.029238368166063036\n",
      "foodie_incarnate 0.018939545131598904\n",
      "delhifoodwalks 0.00486425840357844\n"
     ]
    }
   ],
   "source": [
    "#to print the totaal likes to follow ratio by dividing avg likes of page to no of followers\n",
    "likes_to_f=dict()\n",
    "for i in likes:\n",
    "    likes_to_f[i]=likes[i]/top5[i]\n",
    "for i in likes_to_f:\n",
    "    print(i,likes_to_f[i])"
   ]
  },
  {
   "cell_type": "code",
   "execution_count": 12,
   "metadata": {},
   "outputs": [
    {
     "name": "stdout",
     "output_type": "stream",
     "text": [
      "\n"
     ]
    },
    {
     "data": {
      "image/png": "[encoded data removed]",
      "text/plain": [
       "<Figure size 432x288 with 1 Axes>"
      ]
     },
     "metadata": {
      "needs_background": "light"
     },
     "output_type": "display_data"
    }
   ],
   "source": [
    "#now we store the usernames and total ratio in separate list and then plot a bar graph from it \n",
    "x=list()\n",
    "height=list()\n",
    "for i in likes_to_f:\n",
    "    x.append(i)\n",
    "    height.append(likes_to_f[i])\n",
    "plt.bar(x,height)\n",
    "plt.xticks(rotation=60)\n",
    "print()"
   ]
  },
  {
   "cell_type": "code",
   "execution_count": null,
   "metadata": {},
   "outputs": [],
   "source": []
  }
 ],
 "metadata": {
  "kernelspec": {
   "display_name": "Python 3",
   "language": "python",
   "name": "python3"
  },
  "language_info": {
   "codemirror_mode": {
    "name": "ipython",
    "version": 3
   },
   "file_extension": ".py",
   "mimetype": "text/x-python",
   "name": "python",
   "nbconvert_exporter": "python",
   "pygments_lexer": "ipython3",
   "version": "3.8.5"
  }
 },
 "nbformat": 4,
 "nbformat_minor": 4
}
