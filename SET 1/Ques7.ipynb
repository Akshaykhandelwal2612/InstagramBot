{
 "cells": [
  {
   "cell_type": "code",
   "execution_count": null,
   "metadata": {},
   "outputs": [],
   "source": [
    "#import all the libraries \n",
    "import time\n",
    "from datetime import date, timedelta,datetime\n",
    "import matplotlib.pyplot as plt\n",
    "from bs4 import BeautifulSoup\n",
    "from selenium.common.exceptions import NoSuchElementException\n",
    "#importing library and then initiating a chrome session and making request to login page of instagram\n",
    "from selenium import webdriver\n",
    "driver = webdriver.Chrome(executable_path = '/Users/Akshay/Downloads/chromedriver')\n",
    "driver.get('https://www.instagram.com/')\n",
    "time.sleep(5)\n",
    "#searching for the username option and the fill the desired username to the send_keys function replacing USERNAME as a parameter \n",
    "username= driver.find_element_by_name(\"username\")\n",
    "username.send_keys(\"USERNAME\")\n",
    "#searching for the username option and the fill the desired password to the send_keys function replacing PASSWORD as a parameter\n",
    "password= driver.find_element_by_name(\"password\")\n",
    "password.send_keys(\"PASSWORD\")\n",
    "#search for the submit button using xpath and class name and press on submit button \n",
    "sub= driver.find_element_by_xpath('//button[contains(@class, \"sqdOP\")]')\n",
    "sub.submit()\n",
    "#give time to login \n",
    "time.sleep(4)\n",
    "try:\n",
    "    notnow= driver.find_element_by_xpath('//div/button[contains(@class, \"sqdOP yWX7d    y3zKF     \")]')\n",
    "    notnow.click()\n",
    "except NoSuchElementException :\n",
    "    pass\n",
    "time.sleep(1)\n",
    "#press not now button\n",
    "notnow= driver.find_element_by_xpath('//div/button[contains(@class, \"aOOlW   HoLwm\")]')\n",
    "notnow.click()\n",
    "time.sleep(1)\n",
    "#now go to the search bar and type the text food to it \n",
    "s= driver.find_element_by_xpath('//input[contains(@class, \"XTCLo\")]')\n",
    "s.send_keys(\"coding.ninjas\")\n",
    "time.sleep(2)\n",
    "#now we search to get the text of all the usernames by selecting the correct class\n",
    "a= driver.find_element_by_xpath('//a[contains(@class, \"-qQT3\")]')\n",
    "x=a.get_attribute(\"href\")\n",
    "#now we shift our driver to new page using the get function \n",
    "driver.get(x)\n",
    "time.sleep(3)"
   ]
  },
  {
   "cell_type": "code",
   "execution_count": null,
   "metadata": {},
   "outputs": [],
   "source": [
    "#search for the follow button and then check if the text in it is \"Follow\" that means we dont follow it as of now thus we can press the follow button so that story will appear on our story bar \n",
    "fol_btn= driver.find_element_by_xpath('//button[contains(@class, \"_5f5mN\")]')\n",
    "y=fol_btn.get_attribute(\"innerHTML\")\n",
    "if y!=\"Follow\":\n",
    "    pass\n",
    "else:\n",
    "    fol_btn.click()\n",
    "sleep(2)\n",
    "\n",
    "home= driver.find_element_by_xpath('//button[contains(@class, \"Fifk5\")]/div/a')\n",
    "home.click()"
   ]
  },
  {
   "cell_type": "code",
   "execution_count": 1,
   "metadata": {},
   "outputs": [
    {
     "ename": "NameError",
     "evalue": "name 'driver' is not defined",
     "output_type": "error",
     "traceback": [
      "\u001b[1;31m---------------------------------------------------------------------------\u001b[0m",
      "\u001b[1;31mNameError\u001b[0m                                 Traceback (most recent call last)",
      "\u001b[1;32m<ipython-input-1-716e57be0383>\u001b[0m in \u001b[0;36m<module>\u001b[1;34m\u001b[0m\n\u001b[0;32m      1\u001b[0m \u001b[1;31m#Fifk5\u001b[0m\u001b[1;33m\u001b[0m\u001b[1;33m\u001b[0m\u001b[1;33m\u001b[0m\u001b[0m\n\u001b[1;32m----> 2\u001b[1;33m \u001b[0mfol_btn\u001b[0m\u001b[1;33m=\u001b[0m \u001b[0mdriver\u001b[0m\u001b[1;33m.\u001b[0m\u001b[0mfind_element_by_xpath\u001b[0m\u001b[1;33m(\u001b[0m\u001b[1;34m'//button[contains(@class, \"Fifk5\")]/div/a'\u001b[0m\u001b[1;33m)\u001b[0m\u001b[1;33m\u001b[0m\u001b[1;33m\u001b[0m\u001b[0m\n\u001b[0m\u001b[0;32m      3\u001b[0m \u001b[0mfol_btn\u001b[0m\u001b[1;33m.\u001b[0m\u001b[0mclick\u001b[0m\u001b[1;33m(\u001b[0m\u001b[1;33m)\u001b[0m\u001b[1;33m\u001b[0m\u001b[1;33m\u001b[0m\u001b[0m\n",
      "\u001b[1;31mNameError\u001b[0m: name 'driver' is not defined"
     ]
    }
   ],
   "source": [
    "#now we try to find story of all the pages that we are following in case no one uploaded the story error would be handles  \n",
    "try:\n",
    "    a= driver.find_elements_by_xpath('//div[contains(@class, \"Fd_fQ\")]/button')\n",
    "    flag=1\n",
    "    #we iterate over all the pages whose story we have \n",
    "    for i in a:\n",
    "        html=i.get_attribute(\"innerHTML\")\n",
    "        d=BeautifulSoup(html,\"html.parser\")\n",
    "        for j in d.strings:\n",
    "            #if any one of them matches with username of coding ninjas we will be sure that story is posted now we check height if its \"83\" the we havent seen story thus we click on it else we have already seen it \n",
    "            if j==\"coding.ninjas\":\n",
    "                flag=0\n",
    "                f=d.canvas\n",
    "                if f[\"height\"]==\"83\":\n",
    "                    i.click()\n",
    "                else:\n",
    "                    print(\"Already Seen\")\n",
    "    if flag==1:\n",
    "        print(\"No such story posted\")\n",
    "except NoSuchElementException :\n",
    "        print(\"No such story posted\")"
   ]
  }
 ],
 "metadata": {
  "kernelspec": {
   "display_name": "Python 3",
   "language": "python",
   "name": "python3"
  },
  "language_info": {
   "codemirror_mode": {
    "name": "ipython",
    "version": 3
   },
   "file_extension": ".py",
   "mimetype": "text/x-python",
   "name": "python",
   "nbconvert_exporter": "python",
   "pygments_lexer": "ipython3",
   "version": "3.8.5"
  }
 },
 "nbformat": 4,
 "nbformat_minor": 4
}
