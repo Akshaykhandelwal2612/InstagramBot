{
 "cells": [
  {
   "cell_type": "code",
   "execution_count": 6,
   "metadata": {},
   "outputs": [],
   "source": [
    "#import all the libraries \n",
    "import time\n",
    "from datetime import date, timedelta,datetime\n",
    "import matplotlib.pyplot as plt\n",
    "from selenium.common.exceptions import NoSuchElementException\n",
    "#importing library and then initiating a chrome session and making request to login page of instagram\n",
    "from selenium import webdriver\n",
    "driver = webdriver.Chrome(executable_path = '/Users/Akshay/Downloads/chromedriver')\n",
    "driver.get('https://www.instagram.com/')\n",
    "time.sleep(5)\n",
    "#searching for the username option and the fill the desired username to the send_keys function replacing USERNAME as a parameter \n",
    "username= driver.find_element_by_name(\"username\")\n",
    "username.send_keys(\"USERNAME\")\n",
    "#searching for the username option and the fill the desired password to the send_keys function replacing PASSWORD as a parameter\n",
    "password= driver.find_element_by_name(\"password\")\n",
    "password.send_keys(\"PASSWORD\")\n",
    "#search for the submit button using xpath and class name and press on submit button \n",
    "sub= driver.find_element_by_xpath('//button[contains(@class, \"sqdOP\")]')\n",
    "sub.submit()\n",
    "#give time to login \n",
    "time.sleep(4)\n",
    "try:\n",
    "    notnow= driver.find_element_by_xpath('//div/button[contains(@class, \"sqdOP yWX7d    y3zKF     \")]')\n",
    "    notnow.click()\n",
    "except NoSuchElementException :\n",
    "    pass\n",
    "time.sleep(1)\n",
    "#press not now button\n",
    "notnow= driver.find_element_by_xpath('//div/button[contains(@class, \"aOOlW   HoLwm\")]')\n",
    "notnow.click()\n",
    "time.sleep(1)\n"
   ]
  },
  {
   "cell_type": "code",
   "execution_count": 9,
   "metadata": {},
   "outputs": [
    {
     "ename": "NoSuchElementException",
     "evalue": "Message: no such element: Unable to locate element: {\"method\":\"xpath\",\"selector\":\"//a[contains(@class, \"-qQT3\")]\"}\n  (Session info: chrome=88.0.4324.182)\n",
     "output_type": "error",
     "traceback": [
      "\u001b[1;31m---------------------------------------------------------------------------\u001b[0m",
      "\u001b[1;31mNoSuchElementException\u001b[0m                    Traceback (most recent call last)",
      "\u001b[1;32m<ipython-input-9-4a86d92bf0d6>\u001b[0m in \u001b[0;36m<module>\u001b[1;34m\u001b[0m\n\u001b[0;32m     33\u001b[0m \u001b[0mtime\u001b[0m\u001b[1;33m.\u001b[0m\u001b[0msleep\u001b[0m\u001b[1;33m(\u001b[0m\u001b[1;36m2\u001b[0m\u001b[1;33m)\u001b[0m\u001b[1;33m\u001b[0m\u001b[1;33m\u001b[0m\u001b[0m\n\u001b[0;32m     34\u001b[0m \u001b[1;31m#now we search to get the text of all the usernames by selecting the correct class\u001b[0m\u001b[1;33m\u001b[0m\u001b[1;33m\u001b[0m\u001b[1;33m\u001b[0m\u001b[0m\n\u001b[1;32m---> 35\u001b[1;33m \u001b[0ma\u001b[0m\u001b[1;33m=\u001b[0m \u001b[0mdriver\u001b[0m\u001b[1;33m.\u001b[0m\u001b[0mfind_element_by_xpath\u001b[0m\u001b[1;33m(\u001b[0m\u001b[1;34m'//a[contains(@class, \"-qQT3\")]'\u001b[0m\u001b[1;33m)\u001b[0m\u001b[1;33m\u001b[0m\u001b[1;33m\u001b[0m\u001b[0m\n\u001b[0m\u001b[0;32m     36\u001b[0m \u001b[0mx\u001b[0m\u001b[1;33m=\u001b[0m\u001b[0ma\u001b[0m\u001b[1;33m.\u001b[0m\u001b[0mget_attribute\u001b[0m\u001b[1;33m(\u001b[0m\u001b[1;34m\"href\"\u001b[0m\u001b[1;33m)\u001b[0m\u001b[1;33m\u001b[0m\u001b[1;33m\u001b[0m\u001b[0m\n\u001b[0;32m     37\u001b[0m \u001b[1;31m#now we shift our driver to new page using the get function\u001b[0m\u001b[1;33m\u001b[0m\u001b[1;33m\u001b[0m\u001b[1;33m\u001b[0m\u001b[0m\n",
      "\u001b[1;32m~\\anaconda3\\lib\\site-packages\\selenium\\webdriver\\remote\\webdriver.py\u001b[0m in \u001b[0;36mfind_element_by_xpath\u001b[1;34m(self, xpath)\u001b[0m\n\u001b[0;32m    392\u001b[0m             \u001b[0melement\u001b[0m \u001b[1;33m=\u001b[0m \u001b[0mdriver\u001b[0m\u001b[1;33m.\u001b[0m\u001b[0mfind_element_by_xpath\u001b[0m\u001b[1;33m(\u001b[0m\u001b[1;34m'//div/td[1]'\u001b[0m\u001b[1;33m)\u001b[0m\u001b[1;33m\u001b[0m\u001b[1;33m\u001b[0m\u001b[0m\n\u001b[0;32m    393\u001b[0m         \"\"\"\n\u001b[1;32m--> 394\u001b[1;33m         \u001b[1;32mreturn\u001b[0m \u001b[0mself\u001b[0m\u001b[1;33m.\u001b[0m\u001b[0mfind_element\u001b[0m\u001b[1;33m(\u001b[0m\u001b[0mby\u001b[0m\u001b[1;33m=\u001b[0m\u001b[0mBy\u001b[0m\u001b[1;33m.\u001b[0m\u001b[0mXPATH\u001b[0m\u001b[1;33m,\u001b[0m \u001b[0mvalue\u001b[0m\u001b[1;33m=\u001b[0m\u001b[0mxpath\u001b[0m\u001b[1;33m)\u001b[0m\u001b[1;33m\u001b[0m\u001b[1;33m\u001b[0m\u001b[0m\n\u001b[0m\u001b[0;32m    395\u001b[0m \u001b[1;33m\u001b[0m\u001b[0m\n\u001b[0;32m    396\u001b[0m     \u001b[1;32mdef\u001b[0m \u001b[0mfind_elements_by_xpath\u001b[0m\u001b[1;33m(\u001b[0m\u001b[0mself\u001b[0m\u001b[1;33m,\u001b[0m \u001b[0mxpath\u001b[0m\u001b[1;33m)\u001b[0m\u001b[1;33m:\u001b[0m\u001b[1;33m\u001b[0m\u001b[1;33m\u001b[0m\u001b[0m\n",
      "\u001b[1;32m~\\anaconda3\\lib\\site-packages\\selenium\\webdriver\\remote\\webdriver.py\u001b[0m in \u001b[0;36mfind_element\u001b[1;34m(self, by, value)\u001b[0m\n\u001b[0;32m    974\u001b[0m                 \u001b[0mby\u001b[0m \u001b[1;33m=\u001b[0m \u001b[0mBy\u001b[0m\u001b[1;33m.\u001b[0m\u001b[0mCSS_SELECTOR\u001b[0m\u001b[1;33m\u001b[0m\u001b[1;33m\u001b[0m\u001b[0m\n\u001b[0;32m    975\u001b[0m                 \u001b[0mvalue\u001b[0m \u001b[1;33m=\u001b[0m \u001b[1;34m'[name=\"%s\"]'\u001b[0m \u001b[1;33m%\u001b[0m \u001b[0mvalue\u001b[0m\u001b[1;33m\u001b[0m\u001b[1;33m\u001b[0m\u001b[0m\n\u001b[1;32m--> 976\u001b[1;33m         return self.execute(Command.FIND_ELEMENT, {\n\u001b[0m\u001b[0;32m    977\u001b[0m             \u001b[1;34m'using'\u001b[0m\u001b[1;33m:\u001b[0m \u001b[0mby\u001b[0m\u001b[1;33m,\u001b[0m\u001b[1;33m\u001b[0m\u001b[1;33m\u001b[0m\u001b[0m\n\u001b[0;32m    978\u001b[0m             'value': value})['value']\n",
      "\u001b[1;32m~\\anaconda3\\lib\\site-packages\\selenium\\webdriver\\remote\\webdriver.py\u001b[0m in \u001b[0;36mexecute\u001b[1;34m(self, driver_command, params)\u001b[0m\n\u001b[0;32m    319\u001b[0m         \u001b[0mresponse\u001b[0m \u001b[1;33m=\u001b[0m \u001b[0mself\u001b[0m\u001b[1;33m.\u001b[0m\u001b[0mcommand_executor\u001b[0m\u001b[1;33m.\u001b[0m\u001b[0mexecute\u001b[0m\u001b[1;33m(\u001b[0m\u001b[0mdriver_command\u001b[0m\u001b[1;33m,\u001b[0m \u001b[0mparams\u001b[0m\u001b[1;33m)\u001b[0m\u001b[1;33m\u001b[0m\u001b[1;33m\u001b[0m\u001b[0m\n\u001b[0;32m    320\u001b[0m         \u001b[1;32mif\u001b[0m \u001b[0mresponse\u001b[0m\u001b[1;33m:\u001b[0m\u001b[1;33m\u001b[0m\u001b[1;33m\u001b[0m\u001b[0m\n\u001b[1;32m--> 321\u001b[1;33m             \u001b[0mself\u001b[0m\u001b[1;33m.\u001b[0m\u001b[0merror_handler\u001b[0m\u001b[1;33m.\u001b[0m\u001b[0mcheck_response\u001b[0m\u001b[1;33m(\u001b[0m\u001b[0mresponse\u001b[0m\u001b[1;33m)\u001b[0m\u001b[1;33m\u001b[0m\u001b[1;33m\u001b[0m\u001b[0m\n\u001b[0m\u001b[0;32m    322\u001b[0m             response['value'] = self._unwrap_value(\n\u001b[0;32m    323\u001b[0m                 response.get('value', None))\n",
      "\u001b[1;32m~\\anaconda3\\lib\\site-packages\\selenium\\webdriver\\remote\\errorhandler.py\u001b[0m in \u001b[0;36mcheck_response\u001b[1;34m(self, response)\u001b[0m\n\u001b[0;32m    240\u001b[0m                 \u001b[0malert_text\u001b[0m \u001b[1;33m=\u001b[0m \u001b[0mvalue\u001b[0m\u001b[1;33m[\u001b[0m\u001b[1;34m'alert'\u001b[0m\u001b[1;33m]\u001b[0m\u001b[1;33m.\u001b[0m\u001b[0mget\u001b[0m\u001b[1;33m(\u001b[0m\u001b[1;34m'text'\u001b[0m\u001b[1;33m)\u001b[0m\u001b[1;33m\u001b[0m\u001b[1;33m\u001b[0m\u001b[0m\n\u001b[0;32m    241\u001b[0m             \u001b[1;32mraise\u001b[0m \u001b[0mexception_class\u001b[0m\u001b[1;33m(\u001b[0m\u001b[0mmessage\u001b[0m\u001b[1;33m,\u001b[0m \u001b[0mscreen\u001b[0m\u001b[1;33m,\u001b[0m \u001b[0mstacktrace\u001b[0m\u001b[1;33m,\u001b[0m \u001b[0malert_text\u001b[0m\u001b[1;33m)\u001b[0m\u001b[1;33m\u001b[0m\u001b[1;33m\u001b[0m\u001b[0m\n\u001b[1;32m--> 242\u001b[1;33m         \u001b[1;32mraise\u001b[0m \u001b[0mexception_class\u001b[0m\u001b[1;33m(\u001b[0m\u001b[0mmessage\u001b[0m\u001b[1;33m,\u001b[0m \u001b[0mscreen\u001b[0m\u001b[1;33m,\u001b[0m \u001b[0mstacktrace\u001b[0m\u001b[1;33m)\u001b[0m\u001b[1;33m\u001b[0m\u001b[1;33m\u001b[0m\u001b[0m\n\u001b[0m\u001b[0;32m    243\u001b[0m \u001b[1;33m\u001b[0m\u001b[0m\n\u001b[0;32m    244\u001b[0m     \u001b[1;32mdef\u001b[0m \u001b[0m_value_or_default\u001b[0m\u001b[1;33m(\u001b[0m\u001b[0mself\u001b[0m\u001b[1;33m,\u001b[0m \u001b[0mobj\u001b[0m\u001b[1;33m,\u001b[0m \u001b[0mkey\u001b[0m\u001b[1;33m,\u001b[0m \u001b[0mdefault\u001b[0m\u001b[1;33m)\u001b[0m\u001b[1;33m:\u001b[0m\u001b[1;33m\u001b[0m\u001b[1;33m\u001b[0m\u001b[0m\n",
      "\u001b[1;31mNoSuchElementException\u001b[0m: Message: no such element: Unable to locate element: {\"method\":\"xpath\",\"selector\":\"//a[contains(@class, \"-qQT3\")]\"}\n  (Session info: chrome=88.0.4324.182)\n"
     ]
    }
   ],
   "source": [
    "#now click on profile button and go to your profile \n",
    "icon= driver.find_element_by_xpath('//span[contains(@class, \"_2dbep qNELH\")]')\n",
    "icon.click()\n",
    "time.sleep(0.5)\n",
    "profile= driver.find_element_by_link_text(\"Profile\")\n",
    "profile.click()\n",
    "time.sleep(2)\n",
    "#extract the list of username of all the followers that you have and store them in a list \n",
    "follower= driver.find_element_by_partial_link_text(\"follower\")\n",
    "my_fol= driver.find_element_by_xpath('//a[contains(@class, \"-nal3 \")]/span')\n",
    "follower.click()\n",
    "time.sleep(1)\n",
    "#used to find the number of followers\n",
    "my_fol=my_fol.get_attribute(\"innerHTML\")\n",
    "my_fol=int(my_fol.replace(\",\",\"\"))\n",
    "time.sleep(2)\n",
    "dil  = driver.find_element_by_xpath(\"//div[@class='isgrP']\")\n",
    "flag=1\n",
    "#use to scroll the bar till all the followers are recorded and stored\n",
    "while flag==1: \n",
    "    driver.execute_script('arguments[0].scrollTop = arguments[0].scrollTop + arguments[0].offsetHeight;',dil)\n",
    "    time.sleep(0.5)\n",
    "    followers=driver.find_elements_by_xpath('//a[contains(@class, \"FPmhX notranslate  _0imsa \")]')\n",
    "    if len(followers)>=my_fol:\n",
    "        flag=0\n",
    "my_followers=list()\n",
    "for i in followers:\n",
    "    my_followers.append(i.get_attribute(\"innerHTML\"))\n",
    "time.sleep(1)\n"
   ]
  },
  {
   "cell_type": "code",
   "execution_count": null,
   "metadata": {},
   "outputs": [],
   "source": [
    "#now go to the search bar and type the text food to it \n",
    "s= driver.find_element_by_xpath('//input[contains(@class, \"XTCLo\")]')\n",
    "s.send_keys(\"foodtalkindia\")\n",
    "time.sleep(2)\n",
    "#now we search to get the text of all the usernames by selecting the correct class\n",
    "a= driver.find_element_by_xpath('//a[contains(@class, \"-qQT3\")]')\n",
    "x=a.get_attribute(\"href\")\n",
    "#now we shift our driver to new page using the get function \n",
    "driver.get(x)\n",
    "time.sleep(3)\n",
    "#now we try to open the mutual followers list and if the element not found that means there is no mutual follower\n",
    "try:\n",
    "    page_fol=list()\n",
    "    mutual= driver.find_element_by_partial_link_text(\"Followed by\")\n",
    "    mutual.click()\n",
    "    time.sleep(1)\n",
    "    #we open the mutual follower dialogue box view all entries and then store them \n",
    "    mut_first= driver.find_element_by_xpath('//a[contains(@class, \"sqdOP yWX7d    y3zKF    ZIAjV\")]')\n",
    "    mut_first.click()\n",
    "    fol= driver.find_elements_by_xpath('//a[contains(@class, \"FPmhX notranslate  _0imsa \")]')\n",
    "    for i in fol:\n",
    "        page_fol.append(i.get_attribute(\"innerHTML\"))\n",
    "    following= driver.find_elements_by_xpath('//button[contains(@class, \"sqdOP  L3NKy    _8A5w5    \")]')\n",
    "    count=0\n",
    "    #we count the number of people with status following so that we can slice out the non followers \n",
    "    for i in following:\n",
    "        if i.get_attribute(\"innerHTML\")==\"Following\":\n",
    "            count+=1\n",
    "    \n",
    "    page_fol=page_fol[:count]\n",
    "    #we try to search for each and every mutual following person in our follower list and print the desired answer\n",
    "    c=0\n",
    "    for i in page_fol:\n",
    "        if i not in my_followers:\n",
    "            print(i)\n",
    "            c=1\n",
    "    if c==0:\n",
    "        print(\"no one found\")\n",
    "except NoSuchElementException :\n",
    "    print(\"No mutual followers\")"
   ]
  },
  {
   "cell_type": "code",
   "execution_count": null,
   "metadata": {},
   "outputs": [],
   "source": []
  },
  {
   "cell_type": "code",
   "execution_count": null,
   "metadata": {},
   "outputs": [],
   "source": []
  },
  {
   "cell_type": "code",
   "execution_count": null,
   "metadata": {},
   "outputs": [],
   "source": []
  }
 ],
 "metadata": {
  "kernelspec": {
   "display_name": "Python 3",
   "language": "python",
   "name": "python3"
  },
  "language_info": {
   "codemirror_mode": {
    "name": "ipython",
    "version": 3
   },
   "file_extension": ".py",
   "mimetype": "text/x-python",
   "name": "python",
   "nbconvert_exporter": "python",
   "pygments_lexer": "ipython3",
   "version": "3.8.5"
  }
 },
 "nbformat": 4,
 "nbformat_minor": 4
}
