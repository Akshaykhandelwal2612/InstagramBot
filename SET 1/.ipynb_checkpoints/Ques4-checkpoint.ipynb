{
 "cells": [
  {
   "cell_type": "code",
   "execution_count": 1,
   "metadata": {},
   "outputs": [],
   "source": [
    "#import all the libraries \n",
    "import time\n",
    "from datetime import date, timedelta,datetime\n",
    "import matplotlib.pyplot as plt \n",
    "from selenium.common.exceptions import NoSuchElementException\n",
    "#importing library and then initiating a chrome session and making request to login page of instagram\n",
    "from selenium import webdriver\n",
    "driver = webdriver.Chrome(executable_path = '/Users/Akshay/Downloads/chromedriver')\n",
    "driver.get('https://www.instagram.com/')\n",
    "time.sleep(5)\n",
    "#searching for the username option and the fill the desired username to the send_keys function replacing USERNAME as a parameter \n",
    "username= driver.find_element_by_name(\"username\")\n",
    "username.send_keys(\"USERNAME\")\n",
    "#searching for the username option and the fill the desired password to the send_keys function replacing PASSWORD as a parameter\n",
    "password= driver.find_element_by_name(\"password\")\n",
    "password.send_keys(\"PASSWORD\")\n",
    "#search for the submit button using xpath and class name and press on submit button \n",
    "sub= driver.find_element_by_xpath('//button[contains(@class, \"sqdOP\")]')\n",
    "sub.submit()\n",
    "#give time to login \n",
    "time.sleep(4)\n",
    "try:\n",
    "    notnow= driver.find_element_by_xpath('//div/button[contains(@class, \"sqdOP yWX7d    y3zKF     \")]')\n",
    "    notnow.click()\n",
    "except NoSuchElementException :\n",
    "    pass\n",
    "time.sleep(1)\n",
    "#press not now button\n",
    "notnow= driver.find_element_by_xpath('//div/button[contains(@class, \"aOOlW   HoLwm\")]')\n",
    "notnow.click()\n",
    "time.sleep(1)\n",
    "\n",
    "#now go to the search bar and type the text food to it \n",
    "s= driver.find_element_by_xpath('//input[contains(@class, \"XTCLo\")]')\n",
    "s.send_keys(\"SoDelhi\")\n",
    "time.sleep(1)\n",
    "#now we search to get the href or link of  the usernames by selecting the correct class\n",
    "a= driver.find_element_by_xpath('//a[contains(@class, \"-qQT3\")]')\n",
    "x=a.get_attribute(\"href\")\n",
    "#now we shift our driver to new page using the get function \n",
    "driver.get(x)\n",
    "time.sleep(5)"
   ]
  },
  {
   "cell_type": "code",
   "execution_count": 4,
   "metadata": {},
   "outputs": [],
   "source": [
    "#search for the follow button and then check if the text in it is \"Follow\" that means we dont follow it as of now thus we can press the follow button else we will print already followed \n",
    "fol_btn= driver.find_element_by_xpath('//button[contains(@class, \"_5f5mN\")]')\n",
    "y=fol_btn.get_attribute(\"innerHTML\")\n",
    "if y!=\"Follow\":\n",
    "    print(\"Already following\")\n",
    "else:\n",
    "    fol_btn.click()"
   ]
  },
  {
   "cell_type": "code",
   "execution_count": 6,
   "metadata": {},
   "outputs": [
    {
     "name": "stdout",
     "output_type": "stream",
     "text": [
      "Already not following\n"
     ]
    }
   ],
   "source": [
    "#search for the follow button and then check if the text in it is \"Follow\" that means we dont follow it as of now thus we can press the follow button else we will print already followed \n",
    "fol_btn= driver.find_element_by_xpath('//button[contains(@class, \"_5f5mN\")]')\n",
    "y=fol_btn.get_attribute(\"innerHTML\")\n",
    "if y!=\"Follow\":\n",
    "    #now we have to click on button wait for the dialogue box for confirmation and then unfollow\n",
    "    fol_btn.click()\n",
    "    time.sleep(0.3)\n",
    "    cnfrm_btn= driver.find_element_by_xpath('//button[contains(@class, \"aOOlW -Cab_ \")]')\n",
    "    cnfrm_btn.click()\n",
    "else:\n",
    "    print(\"Already not following\")"
   ]
  }
 ],
 "metadata": {
  "kernelspec": {
   "display_name": "Python 3",
   "language": "python",
   "name": "python3"
  },
  "language_info": {
   "codemirror_mode": {
    "name": "ipython",
    "version": 3
   },
   "file_extension": ".py",
   "mimetype": "text/x-python",
   "name": "python",
   "nbconvert_exporter": "python",
   "pygments_lexer": "ipython3",
   "version": "3.8.5"
  }
 },
 "nbformat": 4,
 "nbformat_minor": 4
}
