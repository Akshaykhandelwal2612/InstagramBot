{
 "cells": [
  {
   "cell_type": "code",
   "execution_count": 2,
   "metadata": {},
   "outputs": [],
   "source": [
    "#importing library and then initiating a chrome session and making request to login page of instagram\n",
    "from selenium import webdriver\n",
    "import time\n",
    "driver = webdriver.Chrome(executable_path = '/Users/Akshay/Downloads/chromedriver')\n",
    "driver.get('https://www.instagram.com/')\n",
    "time.sleep(5)\n",
    "#searching for the username option and the fill the desired username to the send_keys function replacing USERNAME as a parameter \n",
    "username= driver.find_element_by_name(\"username\")\n",
    "username.send_keys('USERNAME')\n",
    "#searching for the username option and the fill the desired password to the send_keys function replacing PASSWORD as a parameter\n",
    "password= driver.find_element_by_name(\"password\")\n",
    "password.send_keys('PASSWORD')\n",
    "#search for the submit button using xpath and class name and press on submit button \n",
    "sub= driver.find_element_by_xpath('//button[contains(@class, \"sqdOP\")]')\n",
    "sub.submit()"
   ]
  }
 ],
 "metadata": {
  "kernelspec": {
   "display_name": "Python 3",
   "language": "python",
   "name": "python3"
  },
  "language_info": {
   "codemirror_mode": {
    "name": "ipython",
    "version": 3
   },
   "file_extension": ".py",
   "mimetype": "text/x-python",
   "name": "python",
   "nbconvert_exporter": "python",
   "pygments_lexer": "ipython3",
   "version": "3.8.5"
  }
 },
 "nbformat": 4,
 "nbformat_minor": 4
}
